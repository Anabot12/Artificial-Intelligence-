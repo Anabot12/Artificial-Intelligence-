{
 "cells": [
  {
   "cell_type": "code",
   "execution_count": 5,
   "metadata": {},
   "outputs": [
    {
     "name": "stdout",
     "output_type": "stream",
     "text": [
      "+-------------+-------+\n",
      "| Burglary(0) | 0.001 |\n",
      "+-------------+-------+\n",
      "| Burglary(1) | 0.999 |\n",
      "+-------------+-------+\n",
      "Probability distribution, P(Burglary)\n",
      "+-------------+-------+\n",
      "| Burglary(0) | 0.001 |\n",
      "+-------------+-------+\n",
      "| Burglary(1) | 0.999 |\n",
      "+-------------+-------+\n",
      "\n",
      "Probability distribution, P(Earthquake)\n",
      "+---------------+-------+\n",
      "| Earthquake(0) | 0.002 |\n",
      "+---------------+-------+\n",
      "| Earthquake(1) | 0.998 |\n",
      "+---------------+-------+\n",
      "\n",
      "Joint probability distribution, P(Alarm | Burglary, Earthquake)\n",
      "+------------+---------------+---------------+---------------+---------------+\n",
      "| Burglary   | Burglary(0)   | Burglary(0)   | Burglary(1)   | Burglary(1)   |\n",
      "+------------+---------------+---------------+---------------+---------------+\n",
      "| Earthquake | Earthquake(0) | Earthquake(1) | Earthquake(0) | Earthquake(1) |\n",
      "+------------+---------------+---------------+---------------+---------------+\n",
      "| Alarm(0)   | 0.95          | 0.94          | 0.29          | 0.001         |\n",
      "+------------+---------------+---------------+---------------+---------------+\n",
      "| Alarm(1)   | 0.05          | 0.06          | 0.71          | 0.999         |\n",
      "+------------+---------------+---------------+---------------+---------------+\n",
      "\n",
      "Joint probability distribution, P(JohnCalls | Alarm)\n",
      "+--------------+----------+----------+\n",
      "| Alarm        | Alarm(0) | Alarm(1) |\n",
      "+--------------+----------+----------+\n",
      "| JohnCalls(0) | 0.9      | 0.05     |\n",
      "+--------------+----------+----------+\n",
      "| JohnCalls(1) | 0.1      | 0.95     |\n",
      "+--------------+----------+----------+\n",
      "\n",
      "Joint probability distribution, P(MaryCalls | Alarm)\n",
      "+--------------+----------+----------+\n",
      "| Alarm        | Alarm(0) | Alarm(1) |\n",
      "+--------------+----------+----------+\n",
      "| MaryCalls(0) | 0.7      | 0.01     |\n",
      "+--------------+----------+----------+\n",
      "| MaryCalls(1) | 0.3      | 0.99     |\n",
      "+--------------+----------+----------+\n",
      "\n"
     ]
    },
    {
     "name": "stderr",
     "output_type": "stream",
     "text": [
      "Finding Elimination Order: : 100%|██████████| 2/2 [00:00<00:00, 2001.10it/s]\n",
      "Eliminating: Alarm: 100%|██████████| 2/2 [00:00<00:00, 1055.97it/s]\n"
     ]
    },
    {
     "name": "stdout",
     "output_type": "stream",
     "text": [
      "Posterior probability of Burglary if JohnCalls(True) and MaryCalls(True)\n",
      "+-------------+-----------------+\n",
      "| Burglary    |   phi(Burglary) |\n",
      "+=============+=================+\n",
      "| Burglary(0) |          0.2842 |\n",
      "+-------------+-----------------+\n",
      "| Burglary(1) |          0.7158 |\n",
      "+-------------+-----------------+\n",
      "\n"
     ]
    },
    {
     "name": "stderr",
     "output_type": "stream",
     "text": [
      "Finding Elimination Order: : : 0it [00:00, ?it/s]\n",
      "0it [00:00, ?it/s]"
     ]
    },
    {
     "name": "stdout",
     "output_type": "stream",
     "text": [
      "Posterior probability of Alarm sounding if Burglary(True) and Earthquake(True)\n",
      "+----------+--------------+\n",
      "| Alarm    |   phi(Alarm) |\n",
      "+==========+==============+\n",
      "| Alarm(0) |       0.9500 |\n",
      "+----------+--------------+\n",
      "| Alarm(1) |       0.0500 |\n",
      "+----------+--------------+\n",
      "\n"
     ]
    },
    {
     "name": "stderr",
     "output_type": "stream",
     "text": [
      "\n"
     ]
    }
   ],
   "source": [
    "import pgmpy.models\n",
    "import pgmpy.inference\n",
    "import numpy as n\n",
    "\n",
    "model = pgmpy.models.BayesianNetwork([('Burglary', 'Alarm'),\n",
    "\t\t\t\t\t\t\t\t\t('Earthquake', 'Alarm'),\n",
    "\t\t\t\t\t\t\t\t\t('Alarm', 'JohnCalls'),\n",
    "\t\t\t\t\t\t\t\t\t('Alarm', 'MaryCalls')])\n",
    "# Probability of burglary (True, False)\n",
    "a_burglary = pgmpy.factors.discrete.TabularCPD('Burglary', 2, [[0.001], [0.999]])\n",
    "print(a_burglary)\n",
    "# Probability of earthquake (True, False)\n",
    "a_earthquake = pgmpy.factors.discrete.TabularCPD('Earthquake', 2, [[0.002], [0.998]])\n",
    "# Probability of alarm going of (True, False) given a burglary and/or earthquake\n",
    "a_alarm = pgmpy.factors.discrete.TabularCPD('Alarm', 2, [[0.95, 0.94, 0.29, 0.001],\n",
    "                                                           [0.05, 0.06, 0.71, 0.999]],\n",
    "                                              evidence=['Burglary', 'Earthquake'],\n",
    "                                              evidence_card=[2, 2])\n",
    "# Probability that John calls (True, False) given that the alarm has sounded\n",
    "a_john = pgmpy.factors.discrete.TabularCPD('JohnCalls', 2, [[0.90, 0.05],\n",
    "\t\t\t\t\t\t\t\t\t\t\t\t\t\t   [0.10, 0.95]],\n",
    "\t\t\t\t\t\t\t\t\t\t\t  evidence=['Alarm'],\n",
    "\t\t\t\t\t\t\t\t\t\t\t  evidence_card=[2])\n",
    "# Probability that Mary calls (True, False) given that the alarm has sounded\n",
    "a_mary = pgmpy.factors.discrete.TabularCPD('MaryCalls', 2, [[0.70, 0.01],\n",
    "\t\t\t\t\t\t\t\t\t\t\t\t\t\t   [0.30, 0.99]],\n",
    "\t\t\t\t\t\t\t\t\t\t\t  evidence=['Alarm'],\n",
    "\t\t\t\t\t\t\t\t\t\t\t  evidence_card=[2])\n",
    "# Adding\n",
    "model.add_cpds(a_burglary, a_earthquake, a_alarm, a_john, a_mary)\n",
    "# Check if the model is valid, throw an exception otherwise\n",
    "model.check_model()\n",
    "\n",
    "# Print probability distributions\n",
    "print('Probability distribution, P(Burglary)')\n",
    "print(a_burglary)\n",
    "print()\n",
    "print('Probability distribution, P(Earthquake)')\n",
    "print(a_earthquake)\n",
    "print()\n",
    "print('Joint probability distribution, P(Alarm | Burglary, Earthquake)')\n",
    "print(a_alarm)\n",
    "print()\n",
    "print('Joint probability distribution, P(JohnCalls | Alarm)')\n",
    "print(a_john)\n",
    "print()\n",
    "print('Joint probability distribution, P(MaryCalls | Alarm)')\n",
    "print(a_mary)\n",
    "print()\n",
    "\n",
    "\n",
    "infer = pgmpy.inference.VariableElimination(model)\n",
    "\n",
    "posterior_probability = infer.query(['Burglary'], evidence={'JohnCalls': 0, 'MaryCalls': 0})\n",
    "\n",
    "print('Posterior probability of Burglary if JohnCalls(True) and MaryCalls(True)')\n",
    "print(posterior_probability)\n",
    "print()\n",
    "\n",
    "posterior_probability = infer.query(['Alarm'], evidence={'Burglary': 0, 'Earthquake': 0})\n",
    "\n",
    "print('Posterior probability of Alarm sounding if Burglary(True) and Earthquake(True)')\n",
    "print(posterior_probability)\n",
    "print()"
   ]
  }
 ],
 "metadata": {
  "kernelspec": {
   "display_name": "Python 3.10.4 64-bit",
   "language": "python",
   "name": "python3"
  },
  "language_info": {
   "codemirror_mode": {
    "name": "ipython",
    "version": 3
   },
   "file_extension": ".py",
   "mimetype": "text/x-python",
   "name": "python",
   "nbconvert_exporter": "python",
   "pygments_lexer": "ipython3",
   "version": "3.10.4"
  },
  "orig_nbformat": 4,
  "vscode": {
   "interpreter": {
    "hash": "c7af7df4901773a0e355da496bf365ae011b1b331a57bbc9908dae1ee21823d7"
   }
  }
 },
 "nbformat": 4,
 "nbformat_minor": 2
}
