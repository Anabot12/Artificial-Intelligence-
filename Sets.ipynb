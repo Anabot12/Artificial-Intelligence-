{
 "cells": [
  {
   "cell_type": "code",
   "execution_count": 1,
   "metadata": {},
   "outputs": [
    {
     "name": "stdout",
     "output_type": "stream",
     "text": [
      "The two sets are:    {4, 5, 6} {1, 2, 4, 6}\n",
      "The union is:    {1, 2, 4, 5, 6} {1, 2, 4, 5, 6}\n",
      "The intersection is:    {4, 6} {4, 6}\n",
      "The difference of a & b is:    {5} {5}\n",
      "The difference of b & a is:    {1, 2} {1, 2}\n"
     ]
    }
   ],
   "source": [
    "a = {4,5,6}\n",
    "b = {1, 2, 4, 6}\n",
    "print (\"The two sets are:   \", a, b)\n",
    "print (\"The union is:   \", a.union(b), a|b) # union\n",
    "print (\"The intersection is:   \", a.intersection(b), a&b) # intersection\n",
    "print (\"The difference of a & b is:   \", a.difference(b), a-b) # elements in a but not in b\n",
    "print (\"The difference of b & a is:   \", b.difference(a), b-a) # elements in b but not in a "
   ]
  }
 ],
 "metadata": {
  "kernelspec": {
   "display_name": "Python 3.10.4 64-bit",
   "language": "python",
   "name": "python3"
  },
  "language_info": {
   "codemirror_mode": {
    "name": "ipython",
    "version": 3
   },
   "file_extension": ".py",
   "mimetype": "text/x-python",
   "name": "python",
   "nbconvert_exporter": "python",
   "pygments_lexer": "ipython3",
   "version": "3.10.4"
  },
  "orig_nbformat": 4,
  "vscode": {
   "interpreter": {
    "hash": "c7af7df4901773a0e355da496bf365ae011b1b331a57bbc9908dae1ee21823d7"
   }
  }
 },
 "nbformat": 4,
 "nbformat_minor": 2
}
